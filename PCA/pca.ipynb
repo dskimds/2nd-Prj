{
  "nbformat": 4,
  "nbformat_minor": 5,
  "metadata": {
    "kernelspec": {
      "display_name": "Python 3",
      "language": "python",
      "name": "python3"
    },
    "language_info": {
      "codemirror_mode": {
        "name": "ipython",
        "version": 3
      },
      "file_extension": ".py",
      "mimetype": "text/x-python",
      "name": "python",
      "nbconvert_exporter": "python",
      "pygments_lexer": "ipython3",
      "version": "3.7.6"
    },
    "colab": {
      "name": "pca.ipynb",
      "provenance": [],
      "include_colab_link": true
    }
  },
  "cells": [
    {
      "cell_type": "markdown",
      "metadata": {
        "id": "view-in-github",
        "colab_type": "text"
      },
      "source": [
        "<a href=\"https://colab.research.google.com/github/dskimds/2nd-Prj/blob/master/PCA/pca.ipynb\" target=\"_parent\"><img src=\"https://colab.research.google.com/assets/colab-badge.svg\" alt=\"Open In Colab\"/></a>"
      ]
    },
    {
      "cell_type": "markdown",
      "metadata": {
        "id": "presidential-voice"
      },
      "source": [
        "### PCA"
      ],
      "id": "presidential-voice"
    },
    {
      "cell_type": "code",
      "metadata": {
        "id": "yellow-slope"
      },
      "source": [
        "# example of pca for dimensionality reduction\n",
        "from sklearn.datasets import make_classification\n",
        "from sklearn.decomposition import PCA"
      ],
      "id": "yellow-slope",
      "execution_count": 1,
      "outputs": []
    },
    {
      "cell_type": "code",
      "metadata": {
        "id": "north-brighton",
        "outputId": "f85124cd-2703-4039-f258-267183f6b78f",
        "colab": {
          "base_uri": "https://localhost:8080/"
        }
      },
      "source": [
        "# define dataset\n",
        "X, y = make_classification(n_samples=1000, n_features=10, n_informative=3, n_redundant=7,\n",
        "random_state=1)\n",
        "\n",
        "# summarize data before the transform\n",
        "print(X[:3, :])"
      ],
      "id": "north-brighton",
      "execution_count": 2,
      "outputs": [
        {
          "output_type": "stream",
          "name": "stdout",
          "text": [
            "[[-0.53448246  0.93837451  0.38969914  0.0926655   1.70876508  1.14351305\n",
            "  -1.47034214  0.11857673 -2.72241741  0.2953565 ]\n",
            " [-2.42280473 -1.02658758 -2.34792156 -0.82422408  0.59933419 -2.44832253\n",
            "   0.39750207  2.0265065   1.83374105  0.72430365]\n",
            " [-1.83391794 -1.1946668  -0.73806871  1.50947233  1.78047734  0.58779205\n",
            "  -2.78506977 -0.04163788 -1.25227833  0.99373587]]\n"
          ]
        }
      ]
    },
    {
      "cell_type": "code",
      "metadata": {
        "id": "au9X7AAkU4CG",
        "outputId": "bab6ee0c-8acc-43a3-bc39-3722f830a77d",
        "colab": {
          "base_uri": "https://localhost:8080/"
        }
      },
      "source": [
        "X[0:3,:]"
      ],
      "id": "au9X7AAkU4CG",
      "execution_count": 5,
      "outputs": [
        {
          "output_type": "execute_result",
          "data": {
            "text/plain": [
              "array([[-0.53448246,  0.93837451,  0.38969914,  0.0926655 ,  1.70876508,\n",
              "         1.14351305, -1.47034214,  0.11857673, -2.72241741,  0.2953565 ],\n",
              "       [-2.42280473, -1.02658758, -2.34792156, -0.82422408,  0.59933419,\n",
              "        -2.44832253,  0.39750207,  2.0265065 ,  1.83374105,  0.72430365],\n",
              "       [-1.83391794, -1.1946668 , -0.73806871,  1.50947233,  1.78047734,\n",
              "         0.58779205, -2.78506977, -0.04163788, -1.25227833,  0.99373587]])"
            ]
          },
          "metadata": {},
          "execution_count": 5
        }
      ]
    },
    {
      "cell_type": "code",
      "metadata": {
        "id": "smooth-camera",
        "outputId": "c305f11a-7be7-42bf-e348-7b64164fa045",
        "colab": {
          "base_uri": "https://localhost:8080/"
        }
      },
      "source": [
        "# define the transform\n",
        "trans = PCA(n_components=5)\n",
        "\n",
        "# transform the data\n",
        "X_dim = trans.fit_transform(X)\n",
        "\n",
        "# summarize data after the transform\n",
        "print(X_dim[:3, :])"
      ],
      "id": "smooth-camera",
      "execution_count": 6,
      "outputs": [
        {
          "output_type": "stream",
          "name": "stdout",
          "text": [
            "[[-1.64710578e+00 -2.11683302e+00  1.98256096e+00  1.88576972e-15\n",
            "  -6.95675812e-16]\n",
            " [ 9.28402085e-01  4.82949970e+00  2.27270432e-01 -4.82676488e-16\n",
            "   2.30492030e-15]\n",
            " [-3.83677757e+00  3.23007138e-01  1.15128013e-01  2.03856686e-16\n",
            "   7.06003478e-16]]\n"
          ]
        }
      ]
    },
    {
      "cell_type": "code",
      "metadata": {
        "id": "kC_jRm0NVPgf",
        "outputId": "64876d44-99d6-455f-f7a3-4f5b12b969b5",
        "colab": {
          "base_uri": "https://localhost:8080/"
        }
      },
      "source": [
        "X_dim.shape"
      ],
      "id": "kC_jRm0NVPgf",
      "execution_count": 7,
      "outputs": [
        {
          "output_type": "execute_result",
          "data": {
            "text/plain": [
              "(1000, 5)"
            ]
          },
          "metadata": {},
          "execution_count": 7
        }
      ]
    },
    {
      "cell_type": "code",
      "metadata": {
        "id": "6RabNQ3sE-1Y",
        "outputId": "cbc3b362-a152-4886-c3d6-a6bd3a7abb45",
        "colab": {
          "base_uri": "https://localhost:8080/"
        }
      },
      "source": [
        "print(X_dim)"
      ],
      "id": "6RabNQ3sE-1Y",
      "execution_count": 8,
      "outputs": [
        {
          "output_type": "stream",
          "name": "stdout",
          "text": [
            "[[-1.64710578e+00 -2.11683302e+00  1.98256096e+00  1.88576972e-15\n",
            "  -6.95675812e-16]\n",
            " [ 9.28402085e-01  4.82949970e+00  2.27270432e-01 -4.82676488e-16\n",
            "   2.30492030e-15]\n",
            " [-3.83677757e+00  3.23007138e-01  1.15128013e-01  2.03856686e-16\n",
            "   7.06003478e-16]\n",
            " ...\n",
            " [ 3.45579288e+00 -6.49130724e-01 -6.98465393e-01  4.28390785e-17\n",
            "  -3.41003550e-17]\n",
            " [ 4.32915522e+00 -3.00906405e-01 -1.99348645e+00 -5.14318604e-16\n",
            "   5.88500195e-17]\n",
            " [-2.49808012e+00 -1.87944823e+00  4.47071779e-03 -6.37161673e-16\n",
            "   2.73354369e-17]]\n"
          ]
        }
      ]
    },
    {
      "cell_type": "code",
      "metadata": {
        "id": "aLtrJh24H8o4"
      },
      "source": [
        "import pandas as pd"
      ],
      "id": "aLtrJh24H8o4",
      "execution_count": 9,
      "outputs": []
    },
    {
      "cell_type": "code",
      "metadata": {
        "id": "609oENpdH0-D"
      },
      "source": [
        "df_X = pd.DataFrame(X_dim)"
      ],
      "id": "609oENpdH0-D",
      "execution_count": 10,
      "outputs": []
    },
    {
      "cell_type": "code",
      "metadata": {
        "id": "IyEVlTpHVq5_",
        "outputId": "2e09f04c-b255-45be-d1dd-cea63984ae8c",
        "colab": {
          "base_uri": "https://localhost:8080/"
        }
      },
      "source": [
        "type(df_X)"
      ],
      "id": "IyEVlTpHVq5_",
      "execution_count": 11,
      "outputs": [
        {
          "output_type": "execute_result",
          "data": {
            "text/plain": [
              "pandas.core.frame.DataFrame"
            ]
          },
          "metadata": {},
          "execution_count": 11
        }
      ]
    },
    {
      "cell_type": "code",
      "metadata": {
        "id": "ldyly0QsVyJH",
        "outputId": "1ffd1733-3c74-4d92-d2d8-e4661f88c20b",
        "colab": {
          "base_uri": "https://localhost:8080/",
          "height": 204
        }
      },
      "source": [
        "df_X.corr().round()   # 10차원에서 5차원 축으로 바꿈\n"
      ],
      "id": "ldyly0QsVyJH",
      "execution_count": 12,
      "outputs": [
        {
          "output_type": "execute_result",
          "data": {
            "text/html": [
              "<div>\n",
              "<style scoped>\n",
              "    .dataframe tbody tr th:only-of-type {\n",
              "        vertical-align: middle;\n",
              "    }\n",
              "\n",
              "    .dataframe tbody tr th {\n",
              "        vertical-align: top;\n",
              "    }\n",
              "\n",
              "    .dataframe thead th {\n",
              "        text-align: right;\n",
              "    }\n",
              "</style>\n",
              "<table border=\"1\" class=\"dataframe\">\n",
              "  <thead>\n",
              "    <tr style=\"text-align: right;\">\n",
              "      <th></th>\n",
              "      <th>0</th>\n",
              "      <th>1</th>\n",
              "      <th>2</th>\n",
              "      <th>3</th>\n",
              "      <th>4</th>\n",
              "    </tr>\n",
              "  </thead>\n",
              "  <tbody>\n",
              "    <tr>\n",
              "      <th>0</th>\n",
              "      <td>1.0</td>\n",
              "      <td>-0.0</td>\n",
              "      <td>0.0</td>\n",
              "      <td>0.0</td>\n",
              "      <td>-0.0</td>\n",
              "    </tr>\n",
              "    <tr>\n",
              "      <th>1</th>\n",
              "      <td>-0.0</td>\n",
              "      <td>1.0</td>\n",
              "      <td>-0.0</td>\n",
              "      <td>0.0</td>\n",
              "      <td>0.0</td>\n",
              "    </tr>\n",
              "    <tr>\n",
              "      <th>2</th>\n",
              "      <td>0.0</td>\n",
              "      <td>-0.0</td>\n",
              "      <td>1.0</td>\n",
              "      <td>-0.0</td>\n",
              "      <td>-0.0</td>\n",
              "    </tr>\n",
              "    <tr>\n",
              "      <th>3</th>\n",
              "      <td>0.0</td>\n",
              "      <td>0.0</td>\n",
              "      <td>-0.0</td>\n",
              "      <td>1.0</td>\n",
              "      <td>-0.0</td>\n",
              "    </tr>\n",
              "    <tr>\n",
              "      <th>4</th>\n",
              "      <td>-0.0</td>\n",
              "      <td>0.0</td>\n",
              "      <td>-0.0</td>\n",
              "      <td>-0.0</td>\n",
              "      <td>1.0</td>\n",
              "    </tr>\n",
              "  </tbody>\n",
              "</table>\n",
              "</div>"
            ],
            "text/plain": [
              "     0    1    2    3    4\n",
              "0  1.0 -0.0  0.0  0.0 -0.0\n",
              "1 -0.0  1.0 -0.0  0.0  0.0\n",
              "2  0.0 -0.0  1.0 -0.0 -0.0\n",
              "3  0.0  0.0 -0.0  1.0 -0.0\n",
              "4 -0.0  0.0 -0.0 -0.0  1.0"
            ]
          },
          "metadata": {},
          "execution_count": 12
        }
      ]
    },
    {
      "cell_type": "code",
      "metadata": {
        "id": "SW8kIhUbVyF-"
      },
      "source": [
        ""
      ],
      "id": "SW8kIhUbVyF-",
      "execution_count": null,
      "outputs": []
    },
    {
      "cell_type": "code",
      "metadata": {
        "id": "mCAyNH2NVx5g"
      },
      "source": [
        ""
      ],
      "id": "mCAyNH2NVx5g",
      "execution_count": null,
      "outputs": []
    },
    {
      "cell_type": "code",
      "metadata": {
        "id": "FwcXMv2YVxvV"
      },
      "source": [
        ""
      ],
      "id": "FwcXMv2YVxvV",
      "execution_count": null,
      "outputs": []
    },
    {
      "cell_type": "code",
      "metadata": {
        "id": "nc5HBpo-IA9D"
      },
      "source": [
        "df_X.describe().round()"
      ],
      "id": "nc5HBpo-IA9D",
      "execution_count": null,
      "outputs": []
    },
    {
      "cell_type": "code",
      "metadata": {
        "id": "fSOQlMVZIQbN"
      },
      "source": [
        "df_X_org = pd.DataFrame(X)"
      ],
      "id": "fSOQlMVZIQbN",
      "execution_count": null,
      "outputs": []
    },
    {
      "cell_type": "code",
      "metadata": {
        "id": "O4Rgu-8vIWB-"
      },
      "source": [
        "df_X_org.describe().round()"
      ],
      "id": "O4Rgu-8vIWB-",
      "execution_count": null,
      "outputs": []
    },
    {
      "cell_type": "code",
      "metadata": {
        "id": "informational-tattoo"
      },
      "source": [
        "X_dim.shape"
      ],
      "id": "informational-tattoo",
      "execution_count": null,
      "outputs": []
    },
    {
      "cell_type": "code",
      "metadata": {
        "id": "fossil-piece"
      },
      "source": [
        "print(\"\\nFirstprincipal axis :\", trans.components_[0])\n",
        "\n",
        "print(\"Second principal axis\", trans.components_[1])\n",
        "\n",
        "print(\"Third principal axis\", trans.components_[2])"
      ],
      "id": "fossil-piece",
      "execution_count": null,
      "outputs": []
    },
    {
      "cell_type": "code",
      "metadata": {
        "id": "gjGCsvCUGcj8"
      },
      "source": [
        "print(trans.explained_variance_ratio_)"
      ],
      "id": "gjGCsvCUGcj8",
      "execution_count": null,
      "outputs": []
    }
  ]
}