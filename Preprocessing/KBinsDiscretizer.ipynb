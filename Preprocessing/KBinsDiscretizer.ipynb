{
  "nbformat": 4,
  "nbformat_minor": 5,
  "metadata": {
    "kernelspec": {
      "display_name": "Python 3",
      "language": "python",
      "name": "python3"
    },
    "language_info": {
      "codemirror_mode": {
        "name": "ipython",
        "version": 3
      },
      "file_extension": ".py",
      "mimetype": "text/x-python",
      "name": "python",
      "nbconvert_exporter": "python",
      "pygments_lexer": "ipython3",
      "version": "3.7.6"
    },
    "colab": {
      "name": "KBinsDiscretizer.ipynb",
      "provenance": [],
      "include_colab_link": true
    }
  },
  "cells": [
    {
      "cell_type": "markdown",
      "metadata": {
        "id": "view-in-github",
        "colab_type": "text"
      },
      "source": [
        "<a href=\"https://colab.research.google.com/github/dskimds/2nd-Prj/blob/master/Preprocessing/KBinsDiscretizer.ipynb\" target=\"_parent\"><img src=\"https://colab.research.google.com/assets/colab-badge.svg\" alt=\"Open In Colab\"/></a>"
      ]
    },
    {
      "cell_type": "markdown",
      "metadata": {
        "id": "peaceful-means"
      },
      "source": [
        "### KBinsDiscretizer"
      ],
      "id": "peaceful-means"
    },
    {
      "cell_type": "code",
      "metadata": {
        "id": "authorized-healing"
      },
      "source": [
        "# discretize numeric input variables\n",
        "from sklearn.datasets import make_classification\n",
        "from sklearn.preprocessing import KBinsDiscretizer"
      ],
      "id": "authorized-healing",
      "execution_count": 1,
      "outputs": []
    },
    {
      "cell_type": "code",
      "metadata": {
        "id": "sound-sustainability",
        "colab": {
          "base_uri": "https://localhost:8080/"
        },
        "outputId": "42ab6179-fe96-47bc-810c-ffe6853774c3"
      },
      "source": [
        "# define dataset\n",
        "X, y = make_classification(n_samples=1000, n_features=100, n_informative=5, n_redundant=0,\n",
        "random_state=1)\n",
        "\n",
        "# summarize data before the transform\n",
        "print(X[:3, :])"
      ],
      "id": "sound-sustainability",
      "execution_count": 2,
      "outputs": [
        {
          "output_type": "stream",
          "name": "stdout",
          "text": [
            "[[ 1.61101802 -0.36803137 -0.99252941  0.05289925  1.28092043  0.09532976\n",
            "   0.83064231 -0.96587016  0.27415194  0.44284703 -1.1835207  -2.26182819\n",
            "   0.7742333  -0.65040625  1.58974022  0.36000042 -0.12808557 -1.15714377\n",
            "  -0.3934255  -0.99470511  0.64326441  0.90807112 -0.55166604 -1.52375641\n",
            "   0.32725087  1.40941692  0.0542382   1.17297281  1.03527443 -0.090566\n",
            "  -0.72829337  0.91766775 -1.01096836  0.13841205  1.37586999 -0.43874554\n",
            "   0.40848918 -0.60371378  0.44094367  0.27443562 -0.91612807  0.76374682\n",
            "   0.43492126  0.56738339  1.41580351  1.77349906 -0.20266033 -0.27454894\n",
            "  -0.12128203  0.31166537  0.47089309 -0.82994451  0.91206912  0.86877599\n",
            "   0.1537554   0.22700355 -0.30634279 -1.8190544  -0.81059572  0.47649495\n",
            "  -0.71137327  0.4129971   0.13816688  0.1076119  -0.85447407  0.21291133\n",
            "   0.27796961  0.55368217 -0.59562893  0.92024332  1.85828617 -1.25092783\n",
            "   0.25883744  0.4819776   0.03291227 -0.97687065 -1.02711746  2.24570669\n",
            "   0.20935097  0.19996683  1.16802973  0.62854351  0.63827074 -1.22357123\n",
            "   2.494181    0.55740325  0.72205586  0.70822277  0.88001726  0.19032534\n",
            "   0.04524998  1.40780317 -0.73188096  1.20206898 -0.02478489  0.87627215\n",
            "   0.18185669 -0.52348202 -0.81159858  2.13560176]\n",
            " [ 0.05293745  0.5864848  -0.32066829  0.70246364  0.92970318  0.13994989\n",
            "   1.91799432 -1.13888294  1.52098606  0.49146224  0.89684872  1.18421357\n",
            "  -0.87111525 -1.38990273  0.50821519 -2.58268711  0.46040615 -0.2995792\n",
            "  -0.21010413 -0.20834452  0.38151484  0.93420538  0.46227137  0.83371225\n",
            "  -1.04447259 -0.77022855  2.24564681 -1.62511467  1.82833314  0.57633543\n",
            "  -2.40592479 -0.21526459  0.21081225 -0.95028558  1.49159857 -0.63182013\n",
            "  -0.03440636  0.39982753 -1.02635092 -1.85658231  0.00280205 -1.09102604\n",
            "  -0.38350995  0.17977725 -1.3045922  -0.13028633 -1.32329409 -0.47402315\n",
            "   0.67663974 -0.26211724  0.46436221  0.75738514  0.69151755 -0.83961995\n",
            "   1.04183978 -1.05702815 -2.66785305 -1.93429335 -0.10611315 -0.75656186\n",
            "   0.62446222 -0.7721955  -1.19999493 -0.58989596  1.27348696  1.04969534\n",
            "   1.30930737 -0.80200308  0.31914252  1.50684972 -0.16088698 -1.31559585\n",
            "  -0.41992417  0.63283969  0.07056259  0.6466441   0.55969713 -0.37898789\n",
            "  -0.54198258 -0.51366663 -1.43255146  0.23908821  0.24935625  0.30234147\n",
            "  -0.23080796 -0.93362799  2.42149399 -0.1203411   1.10740604 -0.07862348\n",
            "  -0.73639619 -1.39689081  1.10738308  1.88083222  0.20522211  1.66335005\n",
            "  -0.43403902  1.51778433  1.84308539 -0.99067092]\n",
            " [-0.31427487 -0.44892916 -1.44264402 -1.91020455  0.73275978 -0.05364982\n",
            "  -0.58153624 -1.19023992 -0.19336225  0.66391193 -2.16354116 -0.28940686\n",
            "  -0.96037533 -1.18900552  1.2747446   0.25349596 -0.38309593  0.41182475\n",
            "   1.52813769 -0.23024941  0.0413786  -0.6505387  -0.23429082  0.63451578\n",
            "  -0.67573214  1.50018562 -0.64306134  2.09620473 -1.9715081   0.30906008\n",
            "  -0.08065655  1.75551297 -0.8211057   0.86870184  0.71979544 -2.31809116\n",
            "   0.50976494  0.45456848 -0.69917658 -0.35237737 -0.08672525 -0.43214034\n",
            "  -0.88407516  0.18507424  1.1861742   0.68786627 -0.64313675 -0.92269295\n",
            "   0.65566094  1.02890735 -1.07521614 -0.11242965 -0.49574828  0.47063\n",
            "   0.75002807  0.83949827 -0.36703407 -1.62304932 -0.95577902  0.48858789\n",
            "  -0.63941981 -1.41755139  0.38619595  1.50000761  1.49278405  0.64619468\n",
            "  -2.28520846 -0.01352874  0.93583462 -0.25003623 -0.20984226  1.48520278\n",
            "  -0.22867455 -0.111124    0.05776554 -0.7432297   0.62593559  1.5530049\n",
            "   0.90407149 -0.08087095  1.05097269  0.02056805  1.06035566  1.06429956\n",
            "   1.38920733 -0.73004561  1.88970232 -1.10545332  0.98872299  1.92319995\n",
            "  -0.4704653   2.37012711  0.86889856  1.05216205  0.52672637  0.03924622\n",
            "   1.7639669   0.21260958  0.41891326 -0.52111705]]\n"
          ]
        }
      ]
    },
    {
      "cell_type": "code",
      "metadata": {
        "id": "sV1301mIYnWe"
      },
      "source": [
        "import pandas as pd\n",
        "df_X=pd.DataFrame(X)"
      ],
      "id": "sV1301mIYnWe",
      "execution_count": 7,
      "outputs": []
    },
    {
      "cell_type": "code",
      "metadata": {
        "id": "dB22KMbMYotA"
      },
      "source": [
        ""
      ],
      "id": "dB22KMbMYotA",
      "execution_count": null,
      "outputs": []
    },
    {
      "cell_type": "code",
      "metadata": {
        "id": "bCLDR-ABYop9"
      },
      "source": [
        ""
      ],
      "id": "bCLDR-ABYop9",
      "execution_count": null,
      "outputs": []
    },
    {
      "cell_type": "code",
      "metadata": {
        "id": "gDgr7_MxYonG"
      },
      "source": [
        ""
      ],
      "id": "gDgr7_MxYonG",
      "execution_count": null,
      "outputs": []
    },
    {
      "cell_type": "code",
      "metadata": {
        "id": "xPwTpdUaYoj9"
      },
      "source": [
        ""
      ],
      "id": "xPwTpdUaYoj9",
      "execution_count": null,
      "outputs": []
    },
    {
      "cell_type": "code",
      "metadata": {
        "id": "exceptional-policy"
      },
      "source": [
        "# define the transform\n",
        "trans = KBinsDiscretizer(n_bins=10, encode='ordinal', strategy='uniform')"
      ],
      "id": "exceptional-policy",
      "execution_count": 3,
      "outputs": []
    },
    {
      "cell_type": "code",
      "metadata": {
        "id": "agreed-nursery"
      },
      "source": [
        "# transform the data\n",
        "X_discrete = trans.fit_transform(X)"
      ],
      "id": "agreed-nursery",
      "execution_count": 4,
      "outputs": []
    },
    {
      "cell_type": "code",
      "metadata": {
        "id": "large-swedish",
        "colab": {
          "base_uri": "https://localhost:8080/"
        },
        "outputId": "41a406db-a702-4802-b5c7-746d5b92d8de"
      },
      "source": [
        "# summarize data after the transform\n",
        "print(X_discrete[:3, :])"
      ],
      "id": "large-swedish",
      "execution_count": 5,
      "outputs": [
        {
          "output_type": "stream",
          "name": "stdout",
          "text": [
            "[[7. 4. 3. 5. 7. 5. 5. 3. 4. 6. 3. 1. 5. 3. 7. 5. 4. 3. 3. 3. 5. 6. 5. 2.\n",
            "  5. 7. 5. 6. 7. 5. 3. 5. 3. 5. 6. 4. 6. 3. 5. 5. 3. 6. 5. 5. 6. 8. 4. 4.\n",
            "  4. 5. 5. 3. 6. 5. 5. 4. 4. 2. 3. 5. 4. 5. 5. 6. 3. 5. 5. 6. 4. 5. 8. 3.\n",
            "  4. 5. 5. 2. 3. 6. 5. 5. 6. 5. 5. 3. 8. 4. 5. 5. 6. 5. 5. 7. 3. 7. 4. 6.\n",
            "  4. 4. 4. 8.]\n",
            " [4. 6. 4. 6. 7. 5. 7. 2. 6. 6. 6. 6. 3. 2. 5. 1. 5. 4. 4. 4. 5. 6. 6. 5.\n",
            "  3. 3. 8. 3. 7. 6. 1. 4. 5. 3. 6. 3. 5. 5. 2. 2. 5. 3. 4. 4. 2. 5. 2. 4.\n",
            "  5. 4. 5. 5. 6. 2. 6. 2. 0. 2. 5. 3. 6. 3. 3. 5. 6. 7. 7. 4. 5. 6. 5. 3.\n",
            "  3. 5. 5. 5. 6. 3. 4. 4. 2. 5. 4. 5. 4. 2. 7. 4. 6. 5. 4. 2. 6. 8. 5. 7.\n",
            "  3. 7. 7. 3.]\n",
            " [4. 4. 3. 2. 7. 5. 3. 2. 3. 6. 1. 4. 3. 2. 7. 5. 4. 5. 6. 4. 4. 4. 5. 5.\n",
            "  3. 7. 4. 7. 4. 5. 4. 6. 3. 6. 5. 1. 6. 5. 3. 4. 5. 4. 3. 4. 6. 6. 3. 3.\n",
            "  5. 6. 2. 4. 4. 4. 6. 5. 4. 2. 3. 5. 4. 2. 6. 8. 7. 6. 1. 5. 6. 4. 5. 7.\n",
            "  3. 4. 5. 3. 6. 5. 6. 5. 6. 5. 5. 6. 6. 2. 6. 2. 6. 8. 4. 8. 6. 7. 5. 5.\n",
            "  7. 5. 5. 4.]]\n"
          ]
        }
      ]
    },
    {
      "cell_type": "code",
      "metadata": {
        "id": "7X1uBy0lYZIu"
      },
      "source": [
        "import pandas as pd"
      ],
      "id": "7X1uBy0lYZIu",
      "execution_count": null,
      "outputs": []
    },
    {
      "cell_type": "code",
      "metadata": {
        "id": "Pt-X3FUrYV_t"
      },
      "source": [
        "df_X_discrete = pd.DataFrame(X_discrete)"
      ],
      "id": "Pt-X3FUrYV_t",
      "execution_count": null,
      "outputs": []
    },
    {
      "cell_type": "code",
      "metadata": {
        "id": "7M_GQ2GcYgCH"
      },
      "source": [
        "df_X_discrete.describe()"
      ],
      "id": "7M_GQ2GcYgCH",
      "execution_count": null,
      "outputs": []
    },
    {
      "cell_type": "code",
      "metadata": {
        "id": "Av8rjOOabr1s"
      },
      "source": [
        "df_X_discrete[0].min()"
      ],
      "id": "Av8rjOOabr1s",
      "execution_count": null,
      "outputs": []
    },
    {
      "cell_type": "code",
      "metadata": {
        "id": "oYaEeUxMb2gy"
      },
      "source": [
        "df_X_discrete.groupby([0]).size()"
      ],
      "id": "oYaEeUxMb2gy",
      "execution_count": null,
      "outputs": []
    },
    {
      "cell_type": "code",
      "metadata": {
        "id": "RSIeisuJdsWY"
      },
      "source": [
        "df_X_discrete.groupby([1]).size()"
      ],
      "id": "RSIeisuJdsWY",
      "execution_count": null,
      "outputs": []
    },
    {
      "cell_type": "code",
      "metadata": {
        "id": "DsIBAvKhd1Kn"
      },
      "source": [
        ""
      ],
      "id": "DsIBAvKhd1Kn",
      "execution_count": null,
      "outputs": []
    },
    {
      "cell_type": "code",
      "metadata": {
        "colab": {
          "base_uri": "https://localhost:8080/"
        },
        "id": "u-GDNdQodCtH",
        "outputId": "74377cf0-7312-47da-a54e-05a7611b0dd6"
      },
      "source": [
        ""
      ],
      "id": "u-GDNdQodCtH",
      "execution_count": null,
      "outputs": [
        {
          "output_type": "execute_result",
          "data": {
            "text/plain": [
              "<pandas.core.groupby.generic.DataFrameGroupBy object at 0x7f8df3b10e90>"
            ]
          },
          "metadata": {
            "tags": []
          },
          "execution_count": 40
        }
      ]
    }
  ]
}